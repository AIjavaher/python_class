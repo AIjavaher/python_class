{
 "cells": [
  {
   "cell_type": "code",
   "execution_count": 1,
   "metadata": {},
   "outputs": [],
   "source": [
    "import pandas as pd\n",
    "import numpy as np"
   ]
  },
  {
   "cell_type": "code",
   "execution_count": 2,
   "metadata": {},
   "outputs": [
    {
     "data": {
      "text/html": [
       "<div>\n",
       "<style scoped>\n",
       "    .dataframe tbody tr th:only-of-type {\n",
       "        vertical-align: middle;\n",
       "    }\n",
       "\n",
       "    .dataframe tbody tr th {\n",
       "        vertical-align: top;\n",
       "    }\n",
       "\n",
       "    .dataframe thead th {\n",
       "        text-align: right;\n",
       "    }\n",
       "</style>\n",
       "<table border=\"1\" class=\"dataframe\">\n",
       "  <thead>\n",
       "    <tr style=\"text-align: right;\">\n",
       "      <th></th>\n",
       "      <th>Data.Precipitation</th>\n",
       "      <th>Date.Full</th>\n",
       "      <th>Date.Month</th>\n",
       "      <th>Date.Week of</th>\n",
       "      <th>Date.Year</th>\n",
       "      <th>Station.City</th>\n",
       "      <th>Station.Code</th>\n",
       "      <th>Station.Location</th>\n",
       "      <th>Station.State</th>\n",
       "      <th>Data.Temperature.Avg Temp</th>\n",
       "      <th>Data.Temperature.Max Temp</th>\n",
       "      <th>Data.Temperature.Min Temp</th>\n",
       "      <th>Data.Wind.Direction</th>\n",
       "      <th>Data.Wind.Speed</th>\n",
       "    </tr>\n",
       "  </thead>\n",
       "  <tbody>\n",
       "    <tr>\n",
       "      <th>0</th>\n",
       "      <td>0.00</td>\n",
       "      <td>2016-01-03</td>\n",
       "      <td>1</td>\n",
       "      <td>3</td>\n",
       "      <td>2016</td>\n",
       "      <td>Birmingham</td>\n",
       "      <td>BHM</td>\n",
       "      <td>Birmingham, AL</td>\n",
       "      <td>Alabama</td>\n",
       "      <td>39</td>\n",
       "      <td>46</td>\n",
       "      <td>32</td>\n",
       "      <td>33</td>\n",
       "      <td>4.33</td>\n",
       "    </tr>\n",
       "    <tr>\n",
       "      <th>1</th>\n",
       "      <td>0.00</td>\n",
       "      <td>2016-01-03</td>\n",
       "      <td>1</td>\n",
       "      <td>3</td>\n",
       "      <td>2016</td>\n",
       "      <td>Huntsville</td>\n",
       "      <td>HSV</td>\n",
       "      <td>Huntsville, AL</td>\n",
       "      <td>Alabama</td>\n",
       "      <td>39</td>\n",
       "      <td>47</td>\n",
       "      <td>31</td>\n",
       "      <td>32</td>\n",
       "      <td>3.86</td>\n",
       "    </tr>\n",
       "    <tr>\n",
       "      <th>2</th>\n",
       "      <td>0.16</td>\n",
       "      <td>2016-01-03</td>\n",
       "      <td>1</td>\n",
       "      <td>3</td>\n",
       "      <td>2016</td>\n",
       "      <td>Mobile</td>\n",
       "      <td>MOB</td>\n",
       "      <td>Mobile, AL</td>\n",
       "      <td>Alabama</td>\n",
       "      <td>46</td>\n",
       "      <td>51</td>\n",
       "      <td>41</td>\n",
       "      <td>35</td>\n",
       "      <td>9.73</td>\n",
       "    </tr>\n",
       "    <tr>\n",
       "      <th>3</th>\n",
       "      <td>0.00</td>\n",
       "      <td>2016-01-03</td>\n",
       "      <td>1</td>\n",
       "      <td>3</td>\n",
       "      <td>2016</td>\n",
       "      <td>Montgomery</td>\n",
       "      <td>MGM</td>\n",
       "      <td>Montgomery, AL</td>\n",
       "      <td>Alabama</td>\n",
       "      <td>45</td>\n",
       "      <td>52</td>\n",
       "      <td>38</td>\n",
       "      <td>32</td>\n",
       "      <td>6.86</td>\n",
       "    </tr>\n",
       "    <tr>\n",
       "      <th>4</th>\n",
       "      <td>0.01</td>\n",
       "      <td>2016-01-03</td>\n",
       "      <td>1</td>\n",
       "      <td>3</td>\n",
       "      <td>2016</td>\n",
       "      <td>Anchorage</td>\n",
       "      <td>ANC</td>\n",
       "      <td>Anchorage, AK</td>\n",
       "      <td>Alaska</td>\n",
       "      <td>34</td>\n",
       "      <td>38</td>\n",
       "      <td>29</td>\n",
       "      <td>19</td>\n",
       "      <td>7.80</td>\n",
       "    </tr>\n",
       "    <tr>\n",
       "      <th>...</th>\n",
       "      <td>...</td>\n",
       "      <td>...</td>\n",
       "      <td>...</td>\n",
       "      <td>...</td>\n",
       "      <td>...</td>\n",
       "      <td>...</td>\n",
       "      <td>...</td>\n",
       "      <td>...</td>\n",
       "      <td>...</td>\n",
       "      <td>...</td>\n",
       "      <td>...</td>\n",
       "      <td>...</td>\n",
       "      <td>...</td>\n",
       "      <td>...</td>\n",
       "    </tr>\n",
       "    <tr>\n",
       "      <th>16738</th>\n",
       "      <td>0.08</td>\n",
       "      <td>2017-01-01</td>\n",
       "      <td>1</td>\n",
       "      <td>1</td>\n",
       "      <td>2017</td>\n",
       "      <td>Casper</td>\n",
       "      <td>CPR</td>\n",
       "      <td>Casper, WY</td>\n",
       "      <td>Wyoming</td>\n",
       "      <td>23</td>\n",
       "      <td>32</td>\n",
       "      <td>15</td>\n",
       "      <td>23</td>\n",
       "      <td>19.98</td>\n",
       "    </tr>\n",
       "    <tr>\n",
       "      <th>16739</th>\n",
       "      <td>0.00</td>\n",
       "      <td>2017-01-01</td>\n",
       "      <td>1</td>\n",
       "      <td>1</td>\n",
       "      <td>2017</td>\n",
       "      <td>Cheyenne</td>\n",
       "      <td>CYS</td>\n",
       "      <td>Cheyenne, WY</td>\n",
       "      <td>Wyoming</td>\n",
       "      <td>32</td>\n",
       "      <td>42</td>\n",
       "      <td>21</td>\n",
       "      <td>26</td>\n",
       "      <td>15.16</td>\n",
       "    </tr>\n",
       "    <tr>\n",
       "      <th>16740</th>\n",
       "      <td>0.00</td>\n",
       "      <td>2017-01-01</td>\n",
       "      <td>1</td>\n",
       "      <td>1</td>\n",
       "      <td>2017</td>\n",
       "      <td>Lander</td>\n",
       "      <td>LND</td>\n",
       "      <td>Lander, WY</td>\n",
       "      <td>Wyoming</td>\n",
       "      <td>17</td>\n",
       "      <td>29</td>\n",
       "      <td>4</td>\n",
       "      <td>26</td>\n",
       "      <td>1.65</td>\n",
       "    </tr>\n",
       "    <tr>\n",
       "      <th>16741</th>\n",
       "      <td>0.06</td>\n",
       "      <td>2017-01-01</td>\n",
       "      <td>1</td>\n",
       "      <td>1</td>\n",
       "      <td>2017</td>\n",
       "      <td>Rawlins</td>\n",
       "      <td>RWL</td>\n",
       "      <td>Rawlins, WY</td>\n",
       "      <td>Wyoming</td>\n",
       "      <td>23</td>\n",
       "      <td>31</td>\n",
       "      <td>13</td>\n",
       "      <td>24</td>\n",
       "      <td>18.16</td>\n",
       "    </tr>\n",
       "    <tr>\n",
       "      <th>16742</th>\n",
       "      <td>0.10</td>\n",
       "      <td>2017-01-01</td>\n",
       "      <td>1</td>\n",
       "      <td>1</td>\n",
       "      <td>2017</td>\n",
       "      <td>Sheridan</td>\n",
       "      <td>SHR</td>\n",
       "      <td>Sheridan, WY</td>\n",
       "      <td>Wyoming</td>\n",
       "      <td>21</td>\n",
       "      <td>34</td>\n",
       "      <td>8</td>\n",
       "      <td>23</td>\n",
       "      <td>7.51</td>\n",
       "    </tr>\n",
       "  </tbody>\n",
       "</table>\n",
       "<p>16743 rows × 14 columns</p>\n",
       "</div>"
      ],
      "text/plain": [
       "       Data.Precipitation   Date.Full  Date.Month  Date.Week of  Date.Year  \\\n",
       "0                    0.00  2016-01-03           1             3       2016   \n",
       "1                    0.00  2016-01-03           1             3       2016   \n",
       "2                    0.16  2016-01-03           1             3       2016   \n",
       "3                    0.00  2016-01-03           1             3       2016   \n",
       "4                    0.01  2016-01-03           1             3       2016   \n",
       "...                   ...         ...         ...           ...        ...   \n",
       "16738                0.08  2017-01-01           1             1       2017   \n",
       "16739                0.00  2017-01-01           1             1       2017   \n",
       "16740                0.00  2017-01-01           1             1       2017   \n",
       "16741                0.06  2017-01-01           1             1       2017   \n",
       "16742                0.10  2017-01-01           1             1       2017   \n",
       "\n",
       "      Station.City Station.Code Station.Location Station.State  \\\n",
       "0       Birmingham          BHM   Birmingham, AL       Alabama   \n",
       "1       Huntsville          HSV   Huntsville, AL       Alabama   \n",
       "2           Mobile          MOB       Mobile, AL       Alabama   \n",
       "3       Montgomery          MGM   Montgomery, AL       Alabama   \n",
       "4        Anchorage          ANC    Anchorage, AK        Alaska   \n",
       "...            ...          ...              ...           ...   \n",
       "16738       Casper          CPR       Casper, WY       Wyoming   \n",
       "16739     Cheyenne          CYS     Cheyenne, WY       Wyoming   \n",
       "16740       Lander          LND       Lander, WY       Wyoming   \n",
       "16741      Rawlins          RWL      Rawlins, WY       Wyoming   \n",
       "16742     Sheridan          SHR     Sheridan, WY       Wyoming   \n",
       "\n",
       "       Data.Temperature.Avg Temp  Data.Temperature.Max Temp  \\\n",
       "0                             39                         46   \n",
       "1                             39                         47   \n",
       "2                             46                         51   \n",
       "3                             45                         52   \n",
       "4                             34                         38   \n",
       "...                          ...                        ...   \n",
       "16738                         23                         32   \n",
       "16739                         32                         42   \n",
       "16740                         17                         29   \n",
       "16741                         23                         31   \n",
       "16742                         21                         34   \n",
       "\n",
       "       Data.Temperature.Min Temp  Data.Wind.Direction  Data.Wind.Speed  \n",
       "0                             32                   33             4.33  \n",
       "1                             31                   32             3.86  \n",
       "2                             41                   35             9.73  \n",
       "3                             38                   32             6.86  \n",
       "4                             29                   19             7.80  \n",
       "...                          ...                  ...              ...  \n",
       "16738                         15                   23            19.98  \n",
       "16739                         21                   26            15.16  \n",
       "16740                          4                   26             1.65  \n",
       "16741                         13                   24            18.16  \n",
       "16742                          8                   23             7.51  \n",
       "\n",
       "[16743 rows x 14 columns]"
      ]
     },
     "execution_count": 2,
     "metadata": {},
     "output_type": "execute_result"
    }
   ],
   "source": [
    "df = pd.read_csv('weather.csv')\n",
    "df"
   ]
  },
  {
   "cell_type": "code",
   "execution_count": 15,
   "metadata": {},
   "outputs": [
    {
     "data": {
      "text/plain": [
       "0    [1, 2, 4, 5, 6]\n",
       "1                [3]\n",
       "dtype: object"
      ]
     },
     "execution_count": 15,
     "metadata": {},
     "output_type": "execute_result"
    }
   ],
   "source": [
    "S1 = pd.Series([[1,2,4,5,6],[3]])\n",
    "S1"
   ]
  },
  {
   "cell_type": "code",
   "execution_count": null,
   "metadata": {},
   "outputs": [],
   "source": []
  },
  {
   "cell_type": "markdown",
   "metadata": {},
   "source": [
    "## shape"
   ]
  },
  {
   "cell_type": "code",
   "execution_count": 4,
   "metadata": {},
   "outputs": [
    {
     "data": {
      "text/plain": [
       "(16743, 14)"
      ]
     },
     "execution_count": 4,
     "metadata": {},
     "output_type": "execute_result"
    }
   ],
   "source": [
    "df.shape"
   ]
  },
  {
   "cell_type": "code",
   "execution_count": 6,
   "metadata": {},
   "outputs": [
    {
     "data": {
      "text/plain": [
       "14"
      ]
     },
     "execution_count": 6,
     "metadata": {},
     "output_type": "execute_result"
    }
   ],
   "source": [
    "df.shape[1]"
   ]
  },
  {
   "cell_type": "code",
   "execution_count": 7,
   "metadata": {},
   "outputs": [
    {
     "name": "stdout",
     "output_type": "stream",
     "text": [
      "16743\n",
      "14\n"
     ]
    }
   ],
   "source": [
    "rows,columns = df.shape\n",
    "print(rows)\n",
    "print(columns)"
   ]
  },
  {
   "cell_type": "code",
   "execution_count": 16,
   "metadata": {},
   "outputs": [
    {
     "data": {
      "text/plain": [
       "0    [1, 2, 4, 5, 6]\n",
       "1                [3]\n",
       "dtype: object"
      ]
     },
     "execution_count": 16,
     "metadata": {},
     "output_type": "execute_result"
    }
   ],
   "source": [
    "S1"
   ]
  },
  {
   "cell_type": "code",
   "execution_count": 17,
   "metadata": {},
   "outputs": [
    {
     "data": {
      "text/plain": [
       "(2,)"
      ]
     },
     "execution_count": 17,
     "metadata": {},
     "output_type": "execute_result"
    }
   ],
   "source": [
    "S1.shape"
   ]
  },
  {
   "cell_type": "code",
   "execution_count": 11,
   "metadata": {},
   "outputs": [
    {
     "data": {
      "text/plain": [
       "[3, 4]"
      ]
     },
     "execution_count": 11,
     "metadata": {},
     "output_type": "execute_result"
    }
   ],
   "source": [
    "S1[1]"
   ]
  },
  {
   "cell_type": "code",
   "execution_count": null,
   "metadata": {},
   "outputs": [],
   "source": []
  },
  {
   "cell_type": "markdown",
   "metadata": {},
   "source": [
    "## size"
   ]
  },
  {
   "cell_type": "code",
   "execution_count": 18,
   "metadata": {},
   "outputs": [
    {
     "data": {
      "text/plain": [
       "234402"
      ]
     },
     "execution_count": 18,
     "metadata": {},
     "output_type": "execute_result"
    }
   ],
   "source": [
    "df.size"
   ]
  },
  {
   "cell_type": "code",
   "execution_count": 19,
   "metadata": {},
   "outputs": [
    {
     "data": {
      "text/plain": [
       "234402"
      ]
     },
     "execution_count": 19,
     "metadata": {},
     "output_type": "execute_result"
    }
   ],
   "source": [
    "df.shape[0]*df.shape[1]"
   ]
  },
  {
   "cell_type": "code",
   "execution_count": 21,
   "metadata": {},
   "outputs": [
    {
     "data": {
      "text/plain": [
       "0    [1, 2, 4, 5, 6]\n",
       "1                [3]\n",
       "dtype: object"
      ]
     },
     "execution_count": 21,
     "metadata": {},
     "output_type": "execute_result"
    }
   ],
   "source": [
    "S1"
   ]
  },
  {
   "cell_type": "code",
   "execution_count": 20,
   "metadata": {},
   "outputs": [
    {
     "data": {
      "text/plain": [
       "2"
      ]
     },
     "execution_count": 20,
     "metadata": {},
     "output_type": "execute_result"
    }
   ],
   "source": [
    "S1.size"
   ]
  },
  {
   "cell_type": "code",
   "execution_count": null,
   "metadata": {},
   "outputs": [],
   "source": []
  },
  {
   "cell_type": "markdown",
   "metadata": {},
   "source": [
    "## ndim"
   ]
  },
  {
   "cell_type": "code",
   "execution_count": 22,
   "metadata": {},
   "outputs": [
    {
     "data": {
      "text/plain": [
       "2"
      ]
     },
     "execution_count": 22,
     "metadata": {},
     "output_type": "execute_result"
    }
   ],
   "source": [
    "df.ndim"
   ]
  },
  {
   "cell_type": "code",
   "execution_count": 23,
   "metadata": {},
   "outputs": [
    {
     "data": {
      "text/plain": [
       "1"
      ]
     },
     "execution_count": 23,
     "metadata": {},
     "output_type": "execute_result"
    }
   ],
   "source": [
    "S1.ndim"
   ]
  },
  {
   "cell_type": "code",
   "execution_count": null,
   "metadata": {},
   "outputs": [],
   "source": []
  },
  {
   "cell_type": "code",
   "execution_count": null,
   "metadata": {},
   "outputs": [],
   "source": []
  }
 ],
 "metadata": {
  "kernelspec": {
   "display_name": "Python 3",
   "language": "python",
   "name": "python3"
  },
  "language_info": {
   "codemirror_mode": {
    "name": "ipython",
    "version": 3
   },
   "file_extension": ".py",
   "mimetype": "text/x-python",
   "name": "python",
   "nbconvert_exporter": "python",
   "pygments_lexer": "ipython3",
   "version": "3.6.10"
  }
 },
 "nbformat": 4,
 "nbformat_minor": 4
}
